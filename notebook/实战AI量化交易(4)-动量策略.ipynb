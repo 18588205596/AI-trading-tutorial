{
 "cells": [
  {
   "cell_type": "code",
   "execution_count": 3,
   "metadata": {
    "ExecuteTime": {
     "end_time": "2020-10-15T14:13:07.632191Z",
     "start_time": "2020-10-15T14:13:06.930843Z"
    }
   },
   "outputs": [],
   "source": [
    "%matplotlib inline\n",
    "\n",
    "import matplotlib.pyplot as plt\n",
    "import numpy as np\n",
    "\n",
    "import jqdatasdk as jq\n",
    "\n",
    "# 请更改为你自己的用户名和密码，账号在jointquant.com上申请\n",
    "#jq.auth('user_name', 'password')\n",
    "securities = jq.get_all_securities()"
   ]
  },
  {
   "cell_type": "markdown",
   "metadata": {},
   "source": [
    "# 动量策略\n",
    "\n",
    "牛顿运动定律向我们揭示了速度和加速度的原理。在股价运动中，有的股虽然还在创新高，但没有加速度了，我们称之为滞涨。有的股虽然在底部，每天的涨幅看上去很小，很容易被忽略，但其实在加速。下面这两幅图，你能说出它们的相同点吗？"
   ]
  },
  {
   "cell_type": "code",
   "execution_count": 2,
   "metadata": {
    "ExecuteTime": {
     "end_time": "2020-10-15T14:10:27.713851Z",
     "start_time": "2020-10-15T14:10:27.316270Z"
    }
   },
   "outputs": [
    {
     "data": {
      "text/plain": [
       "Text(3.8, 3.8, 'c')"
      ]
     },
     "execution_count": 2,
     "metadata": {},
     "output_type": "execute_result"
    },
    {
     "data": {
      "image/png": "[encoded data removed]",
      "text/plain": [
       "<Figure size 648x216 with 3 Axes>"
      ]
     },
     "metadata": {
      "needs_background": "light"
     },
     "output_type": "display_data"
    }
   ],
   "source": [
    "a = [x**2-3*x for x in range(-1,2)]\n",
    "b = [x**2 - 3 * x for x in range(2,5)]\n",
    "c = [x**2 - 3 * x for x in range(-1, 5)]\n",
    "\n",
    "plt.figure(figsize=(9,3))\n",
    "plt.subplot(131)\n",
    "plt.plot(a)\n",
    "plt.text(1.9,3.8, 'a')\n",
    "plt.subplot(132)\n",
    "plt.plot(b)\n",
    "plt.text(0, 3.8, 'b')\n",
    "plt.subplot(133)\n",
    "plt.plot(c)\n",
    "plt.text(3.8, 3.8, 'c')"
   ]
  },
  {
   "cell_type": "markdown",
   "metadata": {},
   "source": [
    "这两张图，虽然一个向下，一个向上，但实际上它们都是向上的抛物线，都有同样的正加速度。因为这个正加速度存在，所以图a继续运行下去，就形成了图b。图a、图b和图c其实都是同一条曲线。\n",
    "这一个发现的重要性在于，图c就是老股民所说的黄金坑。现在，我们通过一个简单的参数（加速度）就可以捕捉这黄金坑了。如果前几个周期已确认能够拟合为一个向上的抛物线，当我们在股价刚刚跃过最低点，再次确认向上抛物线成立时买入，是不是就买在了起涨点上？\n",
    "\n",
    "那么，我们又该如何发现这种黄金坑呢？这里还要用到多项式拟合。前面我们在求直线的斜率时，就是先将给定的时间序列拟合成一条直线，如果其拟合误差在可接受的范围内，我们就认为该时间序列是一条直线，并返回斜率。同样地，我们在这里，也是将给定的时间序列拟合成一条二次曲线，如果拟合误差在可接受范围内，我们就认为该时间序列是一条二次曲线，并返回系数。"
   ]
  },
  {
   "cell_type": "code",
   "execution_count": 40,
   "metadata": {
    "ExecuteTime": {
     "end_time": "2020-10-15T15:06:14.868260Z",
     "start_time": "2020-10-15T15:03:15.958396Z"
    }
   },
   "outputs": [
    {
     "name": "stdout",
     "output_type": "stream",
     "text": [
      "000416.XSHE 民生控股\n",
      "000552.XSHE 靖远煤电\n",
      "000625.XSHE 长安汽车\n",
      "000787.XSHE *ST创智\n",
      "000932.XSHE 华菱钢铁\n",
      "000981.XSHE *ST银亿\n",
      "002027.XSHE 分众传媒\n",
      "002042.XSHE 华孚时尚\n",
      "002088.XSHE 鲁阳节能\n",
      "002096.XSHE 南岭民爆\n",
      "002132.XSHE 恒星科技\n",
      "002144.XSHE 宏达高科\n",
      "002149.XSHE 西部材料\n",
      "002207.XSHE 准油股份\n",
      "002323.XSHE *ST雅博\n",
      "002333.XSHE ST罗普\n",
      "002390.XSHE 信邦制药\n",
      "002483.XSHE 润邦股份\n",
      "002571.XSHE 德力股份\n",
      "002595.XSHE 豪迈科技\n"
     ]
    },
    {
     "name": "stderr",
     "output_type": "stream",
     "text": [
      "<ipython-input-40-2f56235fc983>:35: RuntimeWarning: divide by zero encountered in double_scalars\n",
      "  vert_x = -b / (2 * a)\n"
     ]
    },
    {
     "name": "stdout",
     "output_type": "stream",
     "text": [
      "002617.XSHE 露笑科技\n",
      "002630.XSHE 华西能源\n",
      "002651.XSHE 利君股份\n",
      "002687.XSHE 乔治白\n",
      "002729.XSHE 好利来\n",
      "002819.XSHE 东方中科\n",
      "002919.XSHE 名臣健康\n",
      "300035.XSHE 中科电气\n",
      "300044.XSHE 赛为智能\n",
      "300056.XSHE 中创环保\n",
      "300061.XSHE 旗天科技\n",
      "300067.XSHE 安诺其\n",
      "300071.XSHE 华谊嘉信\n",
      "300072.XSHE 三聚环保\n",
      "300084.XSHE 海默科技\n",
      "300091.XSHE 金通灵\n",
      "300099.XSHE 精准信息\n",
      "300100.XSHE 双林股份\n",
      "300105.XSHE 龙源技术\n",
      "300108.XSHE 吉药控股\n",
      "300116.XSHE 保力新\n",
      "300127.XSHE 银河磁体\n",
      "300128.XSHE 锦富技术\n",
      "300129.XSHE 泰胜风能\n",
      "300135.XSHE 宝利国际\n",
      "300139.XSHE 晓程科技\n",
      "300150.XSHE 世纪瑞尔\n",
      "300154.XSHE 瑞凌股份\n",
      "300182.XSHE 捷成股份\n",
      "300195.XSHE 长荣股份\n",
      "300205.XSHE 天喻信息\n",
      "300211.XSHE 亿通科技\n",
      "300217.XSHE 东方电热\n",
      "300218.XSHE 安利股份\n",
      "300228.XSHE 富瑞特装\n",
      "300232.XSHE 洲明科技\n",
      "300237.XSHE 美晨生态\n",
      "300239.XSHE 东宝生物\n",
      "300240.XSHE 飞力达\n",
      "300247.XSHE 融捷健康\n",
      "300252.XSHE 金信诺\n",
      "300254.XSHE 仟源医药\n",
      "300258.XSHE 精锻科技\n",
      "300262.XSHE 巴安水务\n",
      "300269.XSHE 联建光电\n",
      "300283.XSHE 温州宏丰\n",
      "300287.XSHE 飞利信\n",
      "300288.XSHE 朗玛信息\n",
      "300295.XSHE 三六五网\n",
      "300297.XSHE 蓝盾股份\n",
      "300300.XSHE 海峡创新\n",
      "300301.XSHE 长方集团\n",
      "300309.XSHE 吉艾科技\n",
      "300317.XSHE 珈伟新能\n",
      "300325.XSHE 德威新材\n",
      "300335.XSHE 迪森股份\n",
      "300343.XSHE 联创股份\n",
      "300344.XSHE 太空智造\n",
      "300348.XSHE 长亮科技\n",
      "300354.XSHE 东华测试\n",
      "300355.XSHE 蒙草生态\n",
      "300380.XSHE 安硕信息\n",
      "300402.XSHE 宝色股份\n",
      "300403.XSHE 汉宇集团\n",
      "300405.XSHE 科隆股份\n",
      "300410.XSHE 正业科技\n",
      "300415.XSHE 伊之密\n",
      "300424.XSHE 航新科技\n",
      "300430.XSHE 诚益通\n",
      "300435.XSHE 中泰股份\n",
      "300437.XSHE 清水源\n",
      "300447.XSHE 全信股份\n",
      "300466.XSHE 赛摩智能\n",
      "300471.XSHE 厚普股份\n",
      "300475.XSHE 聚隆科技\n",
      "300483.XSHE 沃施股份\n",
      "300491.XSHE 通合科技\n",
      "300507.XSHE 苏奥传感\n",
      "300508.XSHE 维宏股份\n",
      "300510.XSHE 金冠股份\n",
      "300513.XSHE 恒实科技\n",
      "300527.XSHE 中船应急\n",
      "300535.XSHE 达威股份\n",
      "300539.XSHE 横河模具\n",
      "300542.XSHE 新晨科技\n",
      "300547.XSHE 川环科技\n",
      "300556.XSHE 丝路视觉\n",
      "300569.XSHE 天能重工\n",
      "300581.XSHE 晨曦航空\n",
      "300606.XSHE 金太阳\n",
      "300621.XSHE 维业股份\n",
      "300623.XSHE 捷捷微电\n",
      "300637.XSHE 扬帆新材\n",
      "300641.XSHE 正丹股份\n",
      "300644.XSHE 南京聚隆\n",
      "300652.XSHE 雷迪克\n",
      "300679.XSHE 电连技术\n",
      "300708.XSHE 聚灿光电\n",
      "300713.XSHE 英可瑞\n",
      "300721.XSHE 怡达股份\n",
      "300733.XSHE 西菱动力\n",
      "300736.XSHE 百邦科技\n",
      "300743.XSHE 天地数码\n",
      "300752.XSHE 隆利科技\n",
      "300796.XSHE 贝斯美\n",
      "600003.XSHG ST东北高\n",
      "600006.XSHG 东风汽车\n",
      "600104.XSHG 上汽集团\n",
      "600172.XSHG 黄河旋风\n",
      "600188.XSHG 兖州煤业\n",
      "600339.XSHG 中油工程\n",
      "600509.XSHG 天富能源\n",
      "600518.XSHG ST康美\n",
      "600595.XSHG ST中孚\n",
      "600761.XSHG 安徽合力\n",
      "600970.XSHG 中材国际\n",
      "600985.XSHG 淮北矿业\n",
      "600991.XSHG 广汽长丰\n",
      "601058.XSHG 赛轮轮胎\n",
      "601225.XSHG 陕西煤业\n",
      "601566.XSHG 九牧王\n",
      "601598.XSHG 中国外运\n",
      "601633.XSHG 长城汽车\n",
      "601677.XSHG 明泰铝业\n",
      "601717.XSHG 郑煤机\n",
      "601858.XSHG 中国科传\n",
      "603063.XSHG 禾望电气\n",
      "603077.XSHG 和邦生物\n",
      "603110.XSHG 东方材料\n",
      "603165.XSHG 荣晟环保\n",
      "603218.XSHG 日月股份\n",
      "603332.XSHG 苏州龙杰\n",
      "603629.XSHG 利通电子\n",
      "603665.XSHG 康隆达\n",
      "603757.XSHG 大元泵业\n",
      "603877.XSHG 太平鸟\n",
      "603996.XSHG *ST中新\n",
      "603997.XSHG 继峰股份\n",
      "688003.XSHG 天准科技\n",
      "688099.XSHG 晶晨股份\n"
     ]
    }
   ],
   "source": [
    "def moving_average(ts, win):\n",
    "    return np.convolve(ts, np.ones(win)/win, 'valid')\n",
    "\n",
    "\n",
    "def rmse(y, y_hat):\n",
    "    \"\"\"\n",
    "    返回预测序列相对于真值序列的标准差。\n",
    "    Args:\n",
    "        y:\n",
    "        y_hat:\n",
    "\n",
    "    Returns:\n",
    "\n",
    "    \"\"\"\n",
    "    return np.sqrt(np.mean(np.square(y - y_hat)))\n",
    "\n",
    "def find_parabola(unit='1M', error=3e-2, fit_win=7):\n",
    "    x = np.arange(7)\n",
    "    fields = ['date', 'close', 'open','volume']\n",
    "    for code in securities.index:\n",
    "        bars = jq.get_bars(code, fit_win + 5 - 1, unit=unit, include_now=True, df=False, fields=fields)\n",
    "        if len(bars) != fit_win + 5 -1:\n",
    "            continue\n",
    "            \n",
    "        ma = moving_average(bars['close'], 5)\n",
    "        ts = ma/ma[0]\n",
    "        coef = np.polyfit(x, ts, deg=2)\n",
    "        p = np.poly1d(coef)\n",
    "        ts_hat = np.array([p(xi) for xi in x])\n",
    "        err = rmse(ts, ts_hat) / np.sqrt(np.mean(np.square(ts)))\n",
    "        if err > error:\n",
    "            continue\n",
    "        \n",
    "        a,b,c = coef\n",
    "        vert_x = -b / (2 * a)\n",
    "        t1 = a > 0 and (fit_win-2)>vert_x > 1\n",
    "        if not t1:\n",
    "            continue\n",
    "        vol_up = bars['volume'][-4:-1]>bars['volume'][-5:-2]\n",
    "        \n",
    "        t2 = np.count_nonzero(vol_up) >= 2\n",
    "        if not t2:\n",
    "            continue\n",
    "            \n",
    "        ups = bars['close'][-3:]>bars['open'][-3:]\n",
    "        t3 = np.count_nonzero(ups) == 3\n",
    "        if not t3:\n",
    "            continue\n",
    "\n",
    "        print(code, securities.loc[code]['display_name'])\n",
    "        \n",
    "find_parabola()"
   ]
  },
  {
   "cell_type": "code",
   "execution_count": null,
   "metadata": {},
   "outputs": [],
   "source": []
  }
 ],
 "metadata": {
  "kernelspec": {
   "display_name": "Python [conda env:lynch]",
   "language": "python",
   "name": "conda-env-lynch-py"
  },
  "language_info": {
   "codemirror_mode": {
    "name": "ipython",
    "version": 3
   },
   "file_extension": ".py",
   "mimetype": "text/x-python",
   "name": "python",
   "nbconvert_exporter": "python",
   "pygments_lexer": "ipython3",
   "version": "3.8.1"
  },
  "toc": {
   "base_numbering": 1,
   "nav_menu": {},
   "number_sections": true,
   "sideBar": true,
   "skip_h1_title": false,
   "title_cell": "Table of Contents",
   "title_sidebar": "Contents",
   "toc_cell": false,
   "toc_position": {},
   "toc_section_display": true,
   "toc_window_display": false
  }
 },
 "nbformat": 4,
 "nbformat_minor": 4
}
